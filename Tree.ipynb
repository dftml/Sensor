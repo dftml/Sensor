{
 "cells": [
  {
   "cell_type": "code",
   "execution_count": 1,
   "id": "ca4a30ee",
   "metadata": {},
   "outputs": [],
   "source": [
    "import os\n",
    "import numpy as np\n",
    "import pandas as pd\n",
    "import seaborn as sns\n",
    "from matplotlib import pyplot as plt"
   ]
  },
  {
   "cell_type": "code",
   "execution_count": 2,
   "id": "1a18ad0c",
   "metadata": {},
   "outputs": [],
   "source": [
    "import warnings\n",
    "warnings.simplefilter(\"ignore\")"
   ]
  },
  {
   "cell_type": "code",
   "execution_count": 3,
   "id": "31d1c7b1",
   "metadata": {},
   "outputs": [],
   "source": [
    "path = os.path.join(f\"/home/dftml/Project/Sensor_Gas\", \"Gas_Sensor/\")\n",
    "os.chdir(path)\n",
    "files = sorted(os.listdir())"
   ]
  },
  {
   "cell_type": "code",
   "execution_count": 93,
   "id": "e82a5a49",
   "metadata": {},
   "outputs": [],
   "source": [
    "for i in range(len(files)):\n",
    "    df = pd.read_csv(f'/home/dftml/Project/Sensor_Gas/Gas_Sensor/{files[i]}')\n",
    "    col = {i : i.split()[0] for i in df.columns}\n",
    "    df.rename(columns=col, inplace=True)\n",
    "    \n",
    "    \n",
    "    df_actual = df[(df[\"Flow\"] >=235) & (df[\"Flow\"] <=246)]\n",
    "    df_actual = df_actual[df_actual[\"Temperature\"] >= 21]\n",
    "    \n",
    "    df_actual[\"Heater\"] = df_actual[\"Heater\"].apply(lambda x: round(x,1))\n",
    "    df_actual[\"Flow\"] = df_actual[\"Flow\"].apply(lambda x: int(x))\n",
    "    df_actual[\"Humidity\"] = df_actual[\"Humidity\"].apply(lambda x: int(x))\n",
    "    df_actual.drop(\"Time\", axis =1, inplace =True)\n",
    "    \n",
    "    df_actual[\"CO\"].where(~((df[\"CO\"]>=0) & (df[\"CO\"]<6)),\"Low\", inplace=True)\n",
    "    df_actual[\"CO\"].where(~((df[\"CO\"]>=6) & (df[\"CO\"]<13)),\"Moderate\", inplace=True)\n",
    "    df_actual[\"CO\"].where(~(df[\"CO\"]>=13),\"High\", inplace=True)\n",
    "    \n",
    "    df_actual[\"Sensor_1\"] = (df_actual[\"R1\"] + df_actual[\"R2\"] + df_actual[\"R3\"] + df_actual[\"R4\"] + df_actual[\"R5\"] + df_actual[\"R6\"] + df_actual[\"R7\"])/7\n",
    "    df_actual[\"Sensor_2\"] = (df_actual[\"R8\"] + df_actual[\"R9\"] + df_actual[\"R10\"] + df_actual[\"R11\"] + df_actual[\"R12\"] + df_actual[\"R13\"] + df_actual[\"R14\"])/7\n",
    "    \n",
    "    df_ind = df_actual[[\"Humidity\",\"Temperature\", \"Flow\", \"Heater\", \"Sensor_1\", \"Sensor_2\"]]\n",
    "    df_dep = df_actual[\"CO\"]\n",
    "    \n",
    "    exec(f\"actual_{i+1} = df_actual\")\n",
    "    exec(f\"df_ind{i+1} = df_ind\")\n",
    "    exec(f\"df_dep{i+1} = df_dep\")"
   ]
  },
  {
   "cell_type": "code",
   "execution_count": 95,
   "id": "d1cd0a6c",
   "metadata": {},
   "outputs": [],
   "source": [
    "from sklearn.tree import DecisionTreeClassifier"
   ]
  },
  {
   "cell_type": "code",
   "execution_count": 101,
   "id": "d862128d",
   "metadata": {},
   "outputs": [],
   "source": [
    "def optimization(X_train,y_train):\n",
    "    l1 = [\"gini\", \"entropy\", \"log_loss\"]\n",
    "    l2 = [\"best\", \"random\"]\n",
    "    l3 = list()\n",
    "    for i in range(0,3,1):\n",
    "        for j in range(0,2,1):\n",
    "            d1 = dict()\n",
    "            tree = DecisionTreeClassifier(criterion=l1[i],splitter=l2[j])\n",
    "            tree.fit(X_train,y_train)\n",
    "            d1[\"criterion\"] = l1[i]\n",
    "            d1[\"splitter\"] = l2[j]\n",
    "            d1[\"depth\"] = tree.get_depth()\n",
    "            d1[\"leaves\"] = tree.get_n_leaves()\n",
    "            d1[\"train_score\"] = tree.score(X_train,y_train)\n",
    "            \n",
    "            for k in range(1,14):\n",
    "                exec(f\"d1['testscore_day{k}'] = tree.score(df_ind{k},df_dep{k})\")\n",
    "                \n",
    "            l3.append(d1)\n",
    "            \n",
    "    return l3"
   ]
  },
  {
   "cell_type": "code",
   "execution_count": 3,
   "id": "e72147f2",
   "metadata": {},
   "outputs": [],
   "source": [
    "from cassandra.cluster import Cluster\n",
    "from cassandra.auth import PlainTextAuthProvider\n",
    "\n",
    "cloud_config= {\n",
    "         'secure_connect_bundle': '/home/dftml/Project/Sensor_Gas/secure-connect-dftml.zip'\n",
    "}\n",
    "auth_provider = PlainTextAuthProvider('LfLGbSXqdpAStiWDIRYHRHIO', 'SM1z3dLJ7DuXKF.QNZscq3uo1rMtR0fskvZsg.su-ecdd5srOC.ddfJSj_kvIysqipaNShryYe2c1DMj7sy+fGqbY8A4s3Rm88ieB..qJ5TUZLIuEA9tlJqLHCZvfLDN')\n",
    "\n",
    "cluster = Cluster(cloud=cloud_config, auth_provider=auth_provider)\n",
    "session = cluster.connect()"
   ]
  },
  {
   "cell_type": "code",
   "execution_count": 233,
   "id": "0ec14dae",
   "metadata": {},
   "outputs": [],
   "source": [
    "def load_optimization(table : str, X_train, y_train):\n",
    "    \n",
    "    optim = pd.DataFrame(optimization(X_train,y_train))\n",
    "    optim[\"Deviation\"] = np.std(optim.iloc[:,5:], axis=1)\n",
    "    \n",
    "    if \"index\" in list(optim.columns):\n",
    "        optim.drop(\"index\", axis= 1, inplace = True)\n",
    "    optim = optim.reset_index()\n",
    "    \n",
    "    \n",
    "    columns_schema = \"\"\"id int, criterion text,splitter text,depth int,leaves int, train_score float,\n",
    "       testscore_day1 float, testscore_day2 float,testscore_day3 float,testscore_day4 float,\n",
    "       testscore_day5 float, testscore_day6 float, testscore_day7 float, testscore_day8 float,\n",
    "       testscore_day9 float, testscore_day10 float, testscore_day11 float,\n",
    "       testscore_day12 float,testscore_day13 float, Deviation float, primary key (id)\"\"\"\n",
    "    \n",
    "    session.execute(f\"create table if not exists tree.optim_{table} ({columns_schema})\")\n",
    "    \n",
    "    \n",
    "    columns = \"\"\"id, criterion, splitter, depth,leaves, train_score,\n",
    "       testscore_day1, testscore_day2, testscore_day3, testscore_day4,\n",
    "       testscore_day5, testscore_day6, testscore_day7, testscore_day8,\n",
    "       testscore_day9, testscore_day10, testscore_day11,\n",
    "       testscore_day12, testscore_day13, Deviation\"\"\"\n",
    "    \n",
    "    for i in range(len(optim)):\n",
    "        row = tuple(optim.iloc[i].values)\n",
    "        session.execute(f\"\"\"insert into tree.optim_{table} ({columns}) values {row}\"\"\")\n",
    "        "
   ]
  },
  {
   "cell_type": "code",
   "execution_count": 234,
   "id": "619e4478",
   "metadata": {},
   "outputs": [],
   "source": [
    "for i in range(1,14):\n",
    "    table = \"Day\" + str(i)\n",
    "    exec(f\"X_train = df_ind{i}\")\n",
    "    exec(f\"y_train = df_dep{i}\")\n",
    "    \n",
    "    load_optimization(table, X_train,y_train)"
   ]
  },
  {
   "cell_type": "code",
   "execution_count": 3,
   "id": "8e865bf6",
   "metadata": {},
   "outputs": [],
   "source": [
    "df = pd.DataFrame(list(session.execute(\"select * from sensor.tree_optim_day3\")))"
   ]
  },
  {
   "cell_type": "code",
   "execution_count": null,
   "id": "0210ab88",
   "metadata": {},
   "outputs": [],
   "source": []
  },
  {
   "cell_type": "code",
   "execution_count": null,
   "id": "74d113e0",
   "metadata": {},
   "outputs": [],
   "source": []
  },
  {
   "cell_type": "code",
   "execution_count": 6,
   "id": "6e296542",
   "metadata": {},
   "outputs": [],
   "source": [
    "def best_param(dayno:str):\n",
    "    \n",
    "    df_optim = pd.DataFrame(list(session.execute(f\"select * from sensor.tree_optim_{dayno}\")))\n",
    "    df_optim[\"test_mean\"] = np.mean(df_optim.iloc[:,5:18], axis = 1)\n",
    "    df_optim[\"deviation\"] = np.std(df_optim.iloc[:,5:18], axis=1)\n",
    "    \n",
    "    # best less deviation predicted parameter from all test datasets\n",
    "    best_param = df_optim[df_optim[\"test_mean\"] == df_optim[\"test_mean\"].max()]\n",
    "    \n",
    "    df_result = best_param[[\"criterion\", \"depth\", \"deviation\", \"leaves\", \"splitter\", \"test_mean\", \"train_score\"]]\n",
    "    df_result.insert(0,\"Day\",dayno)\n",
    "    df_result.insert(0,\"id\",int(dayno[3:]))\n",
    "    \n",
    "    \n",
    "    columns_schema = \"\"\"id int, day text, criterion text, depth int, deviation float, leaves int, \n",
    "                    splitter text, test_mean float, train_score float, primary key (id) \"\"\"\n",
    "    \n",
    "    session.execute(f\"create table if not exists sensor.tree_best_param ({columns_schema})\")\n",
    "    \n",
    "    columns = \"\"\"id, day, criterion, depth, deviation, leaves, splitter,\n",
    "                test_mean, train_score\"\"\"\n",
    "    \n",
    "    row = tuple(df_result.iloc[0].values)\n",
    "    session.execute(f\"insert into sensor.tree_best_param ({columns}) values {row}\")"
   ]
  },
  {
   "cell_type": "code",
   "execution_count": 7,
   "id": "c2b4834b",
   "metadata": {},
   "outputs": [],
   "source": [
    "for i in range(1,14):\n",
    "    dayno = \"day\" + str(i)    \n",
    "    best_param(dayno)"
   ]
  },
  {
   "cell_type": "code",
   "execution_count": 4,
   "id": "f0b756db",
   "metadata": {},
   "outputs": [
    {
     "data": {
      "text/plain": [
       "<cassandra.cluster.ResultSet at 0x7f55e2b93640>"
      ]
     },
     "execution_count": 4,
     "metadata": {},
     "output_type": "execute_result"
    }
   ],
   "source": [
    "session.execute(\"use tree\")"
   ]
  },
  {
   "cell_type": "code",
   "execution_count": 4,
   "id": "0c9cd8ea",
   "metadata": {},
   "outputs": [],
   "source": [
    "for i in range(1,14):\n",
    "    \n",
    "    table = \"day\" + str(i)\n",
    "    df = pd.DataFrame(list(session.execute(f\"select * from sensor.tree_optim_{table}\")))\n",
    "    df.sort_values(by=\"id\", inplace=True)\n",
    "    df.set_index(\"id\", inplace=True)\n",
    "    df.to_csv(f\"/home/dftml/Project/Sensor_Gas/Tree/optim_{table}.csv\")"
   ]
  },
  {
   "cell_type": "code",
   "execution_count": null,
   "id": "62f4ff7a",
   "metadata": {},
   "outputs": [],
   "source": []
  }
 ],
 "metadata": {
  "kernelspec": {
   "display_name": "Python 3 (ipykernel)",
   "language": "python",
   "name": "python3"
  },
  "language_info": {
   "codemirror_mode": {
    "name": "ipython",
    "version": 3
   },
   "file_extension": ".py",
   "mimetype": "text/x-python",
   "name": "python",
   "nbconvert_exporter": "python",
   "pygments_lexer": "ipython3",
   "version": "3.9.15"
  }
 },
 "nbformat": 4,
 "nbformat_minor": 5
}
