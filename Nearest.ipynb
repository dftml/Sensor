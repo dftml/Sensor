{
 "cells": [
  {
   "cell_type": "code",
   "execution_count": 1,
   "id": "de17c1d2",
   "metadata": {},
   "outputs": [],
   "source": [
    "import os\n",
    "import numpy as np\n",
    "import pandas as pd\n",
    "import seaborn as sns\n",
    "from matplotlib import pyplot as plt"
   ]
  },
  {
   "cell_type": "code",
   "execution_count": 2,
   "id": "bbacd777",
   "metadata": {},
   "outputs": [],
   "source": [
    "import warnings\n",
    "warnings.simplefilter(\"ignore\")"
   ]
  },
  {
   "cell_type": "code",
   "execution_count": 3,
   "id": "3293d6f1",
   "metadata": {},
   "outputs": [],
   "source": [
    "path = os.path.join(f\"/home/dftml/Project/Sensor_Gas\", \"Gas_Sensor/\")\n",
    "os.chdir(path)\n",
    "files = sorted(os.listdir())"
   ]
  },
  {
   "cell_type": "code",
   "execution_count": 4,
   "id": "45ddb983",
   "metadata": {},
   "outputs": [],
   "source": [
    "for i in range(len(files)):\n",
    "    df = pd.read_csv(f'/home/dftml/Project/Sensor_Gas/Gas_Sensor/{files[i]}')\n",
    "    col = {i : i.split()[0] for i in df.columns}\n",
    "    df.rename(columns=col, inplace=True)\n",
    "    \n",
    "    \n",
    "    df_actual = df[(df[\"Flow\"] >=235) & (df[\"Flow\"] <=246)]\n",
    "    df_actual = df_actual[df_actual[\"Temperature\"] >= 21]\n",
    "    \n",
    "    df_actual[\"Heater\"] = df_actual[\"Heater\"].apply(lambda x: round(x,1))\n",
    "    df_actual[\"Flow\"] = df_actual[\"Flow\"].apply(lambda x: int(x))\n",
    "    df_actual[\"Humidity\"] = df_actual[\"Humidity\"].apply(lambda x: int(x))\n",
    "    df_actual.drop(\"Time\", axis =1, inplace =True)\n",
    "    \n",
    "    df_actual[\"CO\"].where(~((df[\"CO\"]>=0) & (df[\"CO\"]<6)),\"Low\", inplace=True)\n",
    "    df_actual[\"CO\"].where(~((df[\"CO\"]>=6) & (df[\"CO\"]<13)),\"Moderate\", inplace=True)\n",
    "    df_actual[\"CO\"].where(~(df[\"CO\"]>=13),\"High\", inplace=True)\n",
    "    \n",
    "    df_actual[\"Sensor_1\"] = (df_actual[\"R1\"] + df_actual[\"R2\"] + df_actual[\"R3\"] + df_actual[\"R4\"] + df_actual[\"R5\"] + df_actual[\"R6\"] + df_actual[\"R7\"])/7\n",
    "    df_actual[\"Sensor_2\"] = (df_actual[\"R8\"] + df_actual[\"R9\"] + df_actual[\"R10\"] + df_actual[\"R11\"] + df_actual[\"R12\"] + df_actual[\"R13\"] + df_actual[\"R14\"])/7\n",
    "    \n",
    "    df_ind = df_actual[[\"Humidity\",\"Temperature\", \"Flow\", \"Heater\", \"Sensor_1\", \"Sensor_2\"]]\n",
    "    df_dep = df_actual[\"CO\"]\n",
    "    \n",
    "    exec(f\"actual_{i+1} = df_actual\")\n",
    "    exec(f\"df_ind{i+1} = df_ind\")\n",
    "    exec(f\"df_dep{i+1} = df_dep\")"
   ]
  },
  {
   "cell_type": "code",
   "execution_count": 5,
   "id": "09db55bd",
   "metadata": {},
   "outputs": [],
   "source": [
    "from sklearn.neighbors import KNeighborsClassifier"
   ]
  },
  {
   "cell_type": "code",
   "execution_count": 20,
   "id": "79137c9f",
   "metadata": {},
   "outputs": [],
   "source": [
    "def optimization(X_train,y_train):\n",
    "    \n",
    "    l1 = list()\n",
    "    for i in range(5,50,4):\n",
    "        for j in range(1,3):\n",
    "            d1 = dict()\n",
    "            nearest = KNeighborsClassifier(n_neighbors=i, p=j)\n",
    "            nearest.fit(X_train,y_train)\n",
    "            d1[\"neighbors\"] = i\n",
    "            d1[\"p\"] = j\n",
    "            d1[\"distance\"] = \"Manhattan\" if j == 1 else \"Euclidean\"\n",
    "            d1[\"train_score\"] = nearest.score(X_train,y_train)\n",
    "\n",
    "            for k in range(1,14):\n",
    "                exec(f\"d1['testscore_day{k}'] = nearest.score(df_ind{k},df_dep{k})\")\n",
    "\n",
    "            l1.append(d1)\n",
    "\n",
    "    return l1"
   ]
  },
  {
   "cell_type": "code",
   "execution_count": 2,
   "id": "8207b6d3",
   "metadata": {},
   "outputs": [],
   "source": [
    "from cassandra.cluster import Cluster\n",
    "from cassandra.auth import PlainTextAuthProvider\n",
    "\n",
    "cloud_config= {\n",
    "         'secure_connect_bundle': '/home/dftml/Project/Sensor_Gas/secure-connect-dftml.zip'\n",
    "}\n",
    "auth_provider = PlainTextAuthProvider('LfLGbSXqdpAStiWDIRYHRHIO', 'SM1z3dLJ7DuXKF.QNZscq3uo1rMtR0fskvZsg.su-ecdd5srOC.ddfJSj_kvIysqipaNShryYe2c1DMj7sy+fGqbY8A4s3Rm88ieB..qJ5TUZLIuEA9tlJqLHCZvfLDN')\n",
    "\n",
    "cluster = Cluster(cloud=cloud_config, auth_provider=auth_provider)\n",
    "session = cluster.connect()"
   ]
  },
  {
   "cell_type": "code",
   "execution_count": 21,
   "id": "ab83fd01",
   "metadata": {},
   "outputs": [],
   "source": [
    "def load_optimization(table : str, X_train, y_train):\n",
    "    \n",
    "    optim = pd.DataFrame(optimization(X_train,y_train))\n",
    "    \n",
    "    if \"index\" in list(optim.columns):\n",
    "        optim.drop(\"index\", axis= 1, inplace = True)\n",
    "    optim = optim.reset_index()\n",
    "    \n",
    "    \n",
    "    columns_schema = \"\"\"id int, neighbors int,p int,distance text, train_score float,\n",
    "       testscore_day1 float, testscore_day2 float,testscore_day3 float,testscore_day4 float,\n",
    "       testscore_day5 float, testscore_day6 float, testscore_day7 float, testscore_day8 float,\n",
    "       testscore_day9 float, testscore_day10 float, testscore_day11 float,\n",
    "       testscore_day12 float,testscore_day13 float, primary key (id)\"\"\"\n",
    "    \n",
    "    session.execute(f\"create table if not exists sensor.nearest_optim_{table} ({columns_schema})\")\n",
    "    \n",
    "    \n",
    "    columns = \"\"\"id, neighbors, p, distance, train_score,\n",
    "       testscore_day1, testscore_day2, testscore_day3, testscore_day4,\n",
    "       testscore_day5, testscore_day6, testscore_day7, testscore_day8,\n",
    "       testscore_day9, testscore_day10, testscore_day11,\n",
    "       testscore_day12, testscore_day13\"\"\"\n",
    "    \n",
    "    for i in range(len(optim)):\n",
    "        row = tuple(optim.iloc[i].values)\n",
    "        session.execute(f\"\"\"insert into sensor.nearest_optim_{table} ({columns}) values {row}\"\"\")\n",
    "        "
   ]
  },
  {
   "cell_type": "code",
   "execution_count": 22,
   "id": "49b9ceee",
   "metadata": {},
   "outputs": [],
   "source": [
    "for i in range(1,14):\n",
    "    table = \"Day\" + str(i)\n",
    "    exec(f\"X_train = df_ind{i}\")\n",
    "    exec(f\"y_train = df_dep{i}\")\n",
    "    \n",
    "    load_optimization(table, X_train,y_train)"
   ]
  },
  {
   "cell_type": "code",
   "execution_count": 9,
   "id": "39fa297a",
   "metadata": {},
   "outputs": [],
   "source": [
    "def best_param(dayno:str):\n",
    "    \n",
    "    df_optim = pd.DataFrame(list(session.execute(f\"select * from sensor.nearest_optim_{dayno}\")))\n",
    "    df_optim[\"test_mean\"] = np.mean(df_optim.iloc[:,4:17], axis = 1)\n",
    "    df_optim[\"deviation\"] = np.std(df_optim.iloc[:,4:17], axis=1)\n",
    "    \n",
    "    # best highest test mean and less deviated analysis of predicted parameter from all test datasets\n",
    "    best_param = df_optim[df_optim[\"test_mean\"] == df_optim[\"test_mean\"].max()]\n",
    "    \n",
    "    df_result = best_param[[\"neighbors\", \"p\", \"distance\", \"deviation\",  \"test_mean\", \"train_score\"]]\n",
    "    df_result.insert(0,\"Day\",dayno)\n",
    "    df_result.insert(0,\"id\",int(dayno[3:]))\n",
    "    \n",
    "    \n",
    "    columns_schema = \"\"\"id int, day text,neighbors int,p int, distance text, deviation float, \n",
    "                     test_mean float, train_score float, primary key (id) \"\"\"\n",
    "    \n",
    "    session.execute(f\"create table if not exists sensor.nearest_best_param ({columns_schema})\")\n",
    "    \n",
    "    columns = \"\"\"id, day, neighbors, p, distance, deviation,\n",
    "                test_mean, train_score\"\"\"\n",
    "    \n",
    "    row = tuple(df_result.iloc[0].values)\n",
    "    session.execute(f\"insert into sensor.nearest_best_param ({columns}) values {row}\")"
   ]
  },
  {
   "cell_type": "code",
   "execution_count": 10,
   "id": "50b4258c",
   "metadata": {},
   "outputs": [],
   "source": [
    "for i in range(1,14):\n",
    "    dayno = \"day\" + str(i)\n",
    "    best_param(dayno)"
   ]
  },
  {
   "cell_type": "code",
   "execution_count": 4,
   "id": "b9ecd2a8",
   "metadata": {},
   "outputs": [],
   "source": [
    "for i in range(1,14):\n",
    "    \n",
    "    table = \"day\" + str(i)\n",
    "    df = pd.DataFrame(list(session.execute(f\"select * from sensor.nearest_optim_{table}\")))\n",
    "    df.sort_values(by=\"id\", inplace=True)\n",
    "    df.set_index(\"id\", inplace=True)\n",
    "    df.to_csv(f\"/home/dftml/Project/Sensor_Gas/Nearest/optim_{table}.csv\")"
   ]
  },
  {
   "cell_type": "code",
   "execution_count": null,
   "id": "e3e00e8a",
   "metadata": {},
   "outputs": [],
   "source": []
  }
 ],
 "metadata": {
  "kernelspec": {
   "display_name": "Python 3 (ipykernel)",
   "language": "python",
   "name": "python3"
  },
  "language_info": {
   "codemirror_mode": {
    "name": "ipython",
    "version": 3
   },
   "file_extension": ".py",
   "mimetype": "text/x-python",
   "name": "python",
   "nbconvert_exporter": "python",
   "pygments_lexer": "ipython3",
   "version": "3.9.15"
  }
 },
 "nbformat": 4,
 "nbformat_minor": 5
}
