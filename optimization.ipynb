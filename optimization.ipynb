{
 "cells": [
  {
   "cell_type": "code",
   "execution_count": 1,
   "id": "53cf9896",
   "metadata": {},
   "outputs": [],
   "source": [
    "import os\n",
    "import numpy as np\n",
    "import pandas as pd\n",
    "import seaborn as sns\n",
    "from matplotlib import pyplot as plt"
   ]
  },
  {
   "cell_type": "code",
   "execution_count": 2,
   "id": "94f79810",
   "metadata": {},
   "outputs": [],
   "source": [
    "import warnings\n",
    "warnings.simplefilter(\"ignore\")"
   ]
  },
  {
   "cell_type": "code",
   "execution_count": 3,
   "id": "26a474c0",
   "metadata": {},
   "outputs": [],
   "source": [
    "path = os.path.join(f\"/home/stano/Project/Sensor\", \"Gas_Sensor/\")\n",
    "os.chdir(path)\n",
    "files = sorted(os.listdir())"
   ]
  },
  {
   "cell_type": "code",
   "execution_count": 30,
   "id": "87aab84a",
   "metadata": {},
   "outputs": [],
   "source": [
    "for i in range(len(files)):\n",
    "    df = pd.read_csv(f'/home/stano/Project/Sensor/Gas_Sensor/{files[i]}')\n",
    "    col = {i : i.split()[0] for i in df.columns}\n",
    "    df.rename(columns=col, inplace=True)\n",
    "    \n",
    "    \n",
    "    df_actual = df[(df[\"Flow\"] >=235) & (df[\"Flow\"] <=246)]\n",
    "    df_actual = df_actual[df_actual[\"Temperature\"] >= 21]\n",
    "    \n",
    "    df_actual[\"Heater\"] = df_actual[\"Heater\"].apply(lambda x: round(x,1))\n",
    "    df_actual[\"Flow\"] = df_actual[\"Flow\"].apply(lambda x: int(x))\n",
    "    df_actual[\"Humidity\"] = df_actual[\"Humidity\"].apply(lambda x: int(x))\n",
    "    df_actual.drop(\"Time\", axis =1, inplace =True)\n",
    "    \n",
    "    df_actual[\"CO\"].where(~((df[\"CO\"]>=0) & (df[\"CO\"]<10)),\"Low\", inplace=True)\n",
    "    #df_actual[\"CO\"].where(~((df[\"CO\"]>=6) & (df[\"CO\"]<13)),\"Moderate\", inplace=True)\n",
    "    df_actual[\"CO\"].where(~(df[\"CO\"]>=10),\"High\", inplace=True)\n",
    "    \n",
    "    df_actual[\"Sensor_1\"] = (df_actual[\"R1\"] + df_actual[\"R2\"] + df_actual[\"R3\"] + df_actual[\"R4\"] + df_actual[\"R5\"] + df_actual[\"R6\"] + df_actual[\"R7\"])/7\n",
    "    df_actual[\"Sensor_2\"] = (df_actual[\"R8\"] + df_actual[\"R9\"] + df_actual[\"R10\"] + df_actual[\"R11\"] + df_actual[\"R12\"] + df_actual[\"R13\"] + df_actual[\"R14\"])/7\n",
    "    \n",
    "    df_ind = df_actual[[\"Humidity\",\"Temperature\", \"Flow\", \"Heater\", \"Sensor_1\", \"Sensor_2\"]]\n",
    "    df_dep = df_actual[\"CO\"]\n",
    "    \n",
    "    exec(f\"actual_{i+1} = df_actual\")\n",
    "    exec(f\"df_ind{i+1} = df_ind\")\n",
    "    exec(f\"df_dep{i+1} = df_dep\")"
   ]
  },
  {
   "cell_type": "code",
   "execution_count": 5,
   "id": "0ed44e4a",
   "metadata": {},
   "outputs": [],
   "source": [
    "from sklearn.ensemble import GradientBoostingClassifier"
   ]
  },
  {
   "cell_type": "code",
   "execution_count": 17,
   "id": "e24d665d",
   "metadata": {},
   "outputs": [],
   "source": [
    "def optimization(X_train,y_train):\n",
    "    \n",
    "    l1 = list()\n",
    "    for i in range(5,110,10):\n",
    "        for j in range(30,130,10):\n",
    "            d1 = dict()\n",
    "            boost = GradientBoostingClassifier(learning_rate=i/1000,n_estimators=j)\n",
    "            boost.fit(X_train,y_train)\n",
    "            d1[\"learning_rate\"] = i/1000\n",
    "            d1[\"n_estimators\"] = j\n",
    "            d1[\"train_score\"] = boost.score(X_train,y_train)\n",
    "            \n",
    "            for k in range(1,14):\n",
    "                exec(f\"d1['testscore_day{k}'] = boost.score(df_ind{k},df_dep{k})\")\n",
    "\n",
    "            l1.append(d1)\n",
    "\n",
    "    return l1"
   ]
  },
  {
   "cell_type": "code",
   "execution_count": 10,
   "id": "d123301b",
   "metadata": {},
   "outputs": [],
   "source": [
    "from cassandra.cluster import Cluster\n",
    "clustering = Cluster()\n",
    "session = clustering.connect()"
   ]
  },
  {
   "cell_type": "code",
   "execution_count": 11,
   "id": "4d8560de",
   "metadata": {},
   "outputs": [
    {
     "data": {
      "text/plain": [
       "<cassandra.cluster.ResultSet at 0x7f9406399930>"
      ]
     },
     "execution_count": 11,
     "metadata": {},
     "output_type": "execute_result"
    }
   ],
   "source": [
    "session.execute(\"create keyspace if not exists model with replication = {'class': 'SimpleStrategy', 'replication_factor': '1'} and durable_writes = true\")"
   ]
  },
  {
   "cell_type": "code",
   "execution_count": 18,
   "id": "40a689c6",
   "metadata": {},
   "outputs": [],
   "source": [
    "def load_optimization():\n",
    "    \n",
    "    optim = pd.DataFrame(optimization(df_ind2,df_dep2))\n",
    "    \n",
    "    if \"index\" in list(optim.columns):\n",
    "        optim.drop(\"index\", axis= 1, inplace = True)\n",
    "    optim = optim.reset_index()\n",
    "    \n",
    "    \n",
    "    columns_schema = \"\"\"id float, learning_rate float,n_estimator float, train_score float,\n",
    "       testscore_day1 float, testscore_day2 float,testscore_day3 float,testscore_day4 float,\n",
    "       testscore_day5 float, testscore_day6 float, testscore_day7 float, testscore_day8 float,\n",
    "       testscore_day9 float, testscore_day10 float, testscore_day11 float,\n",
    "       testscore_day12 float,testscore_day13 float, primary key (id)\"\"\"\n",
    "    \n",
    "    session.execute(f\"create table if not exists model.optim ({columns_schema})\")\n",
    "    \n",
    "    \n",
    "    columns = \"\"\"id, learning_rate, n_estimator, train_score,\n",
    "       testscore_day1, testscore_day2, testscore_day3, testscore_day4,\n",
    "       testscore_day5, testscore_day6, testscore_day7, testscore_day8,\n",
    "       testscore_day9, testscore_day10, testscore_day11,\n",
    "       testscore_day12, testscore_day13\"\"\"\n",
    "    \n",
    "    for i in range(len(optim)):\n",
    "        row = tuple(optim.iloc[i].values)\n",
    "        session.execute(f\"\"\"insert into model.optim ({columns}) values {row}\"\"\")\n",
    "        "
   ]
  },
  {
   "cell_type": "code",
   "execution_count": 19,
   "id": "b2d32b33",
   "metadata": {},
   "outputs": [],
   "source": [
    "load_optimization()"
   ]
  },
  {
   "cell_type": "code",
   "execution_count": 43,
   "id": "085859b9",
   "metadata": {},
   "outputs": [],
   "source": [
    "df = pd.DataFrame(list(session.execute(\"select * from model.optim\")))"
   ]
  },
  {
   "cell_type": "code",
   "execution_count": 46,
   "id": "73f6cd98",
   "metadata": {},
   "outputs": [],
   "source": [
    "df[\"id\"] = df[\"id\"].astype(\"int\")"
   ]
  },
  {
   "cell_type": "code",
   "execution_count": 47,
   "id": "dd0188e6",
   "metadata": {},
   "outputs": [],
   "source": [
    "df.sort_values(by=\"id\", inplace=True)\n",
    "df.set_index(\"id\", inplace=True)"
   ]
  },
  {
   "cell_type": "code",
   "execution_count": 48,
   "id": "96798c9f",
   "metadata": {},
   "outputs": [],
   "source": [
    "df.insert(2,\"test_mean\",np.mean(df.iloc[:,2:15], axis=1))"
   ]
  },
  {
   "cell_type": "code",
   "execution_count": 49,
   "id": "9a110239",
   "metadata": {},
   "outputs": [],
   "source": [
    "df.insert(3,\"Deviation\",np.std(df.iloc[:,3:16], axis=1))"
   ]
  },
  {
   "cell_type": "code",
   "execution_count": 50,
   "id": "3899ff70",
   "metadata": {},
   "outputs": [
    {
     "data": {
      "text/html": [
       "<div>\n",
       "<style scoped>\n",
       "    .dataframe tbody tr th:only-of-type {\n",
       "        vertical-align: middle;\n",
       "    }\n",
       "\n",
       "    .dataframe tbody tr th {\n",
       "        vertical-align: top;\n",
       "    }\n",
       "\n",
       "    .dataframe thead th {\n",
       "        text-align: right;\n",
       "    }\n",
       "</style>\n",
       "<table border=\"1\" class=\"dataframe\">\n",
       "  <thead>\n",
       "    <tr style=\"text-align: right;\">\n",
       "      <th></th>\n",
       "      <th>learning_rate</th>\n",
       "      <th>n_estimator</th>\n",
       "      <th>test_mean</th>\n",
       "      <th>Deviation</th>\n",
       "      <th>testscore_day1</th>\n",
       "      <th>testscore_day10</th>\n",
       "      <th>testscore_day11</th>\n",
       "      <th>testscore_day12</th>\n",
       "      <th>testscore_day13</th>\n",
       "      <th>testscore_day2</th>\n",
       "      <th>testscore_day3</th>\n",
       "      <th>testscore_day4</th>\n",
       "      <th>testscore_day5</th>\n",
       "      <th>testscore_day6</th>\n",
       "      <th>testscore_day7</th>\n",
       "      <th>testscore_day8</th>\n",
       "      <th>testscore_day9</th>\n",
       "      <th>train_score</th>\n",
       "    </tr>\n",
       "    <tr>\n",
       "      <th>id</th>\n",
       "      <th></th>\n",
       "      <th></th>\n",
       "      <th></th>\n",
       "      <th></th>\n",
       "      <th></th>\n",
       "      <th></th>\n",
       "      <th></th>\n",
       "      <th></th>\n",
       "      <th></th>\n",
       "      <th></th>\n",
       "      <th></th>\n",
       "      <th></th>\n",
       "      <th></th>\n",
       "      <th></th>\n",
       "      <th></th>\n",
       "      <th></th>\n",
       "      <th></th>\n",
       "      <th></th>\n",
       "    </tr>\n",
       "  </thead>\n",
       "  <tbody>\n",
       "    <tr>\n",
       "      <th>0</th>\n",
       "      <td>0.005</td>\n",
       "      <td>30.0</td>\n",
       "      <td>0.657626</td>\n",
       "      <td>0.028930</td>\n",
       "      <td>0.648269</td>\n",
       "      <td>0.667352</td>\n",
       "      <td>0.564298</td>\n",
       "      <td>0.654727</td>\n",
       "      <td>0.660468</td>\n",
       "      <td>0.676410</td>\n",
       "      <td>0.662750</td>\n",
       "      <td>0.643783</td>\n",
       "      <td>0.670594</td>\n",
       "      <td>0.674609</td>\n",
       "      <td>0.676963</td>\n",
       "      <td>0.675883</td>\n",
       "      <td>0.673025</td>\n",
       "      <td>0.676410</td>\n",
       "    </tr>\n",
       "    <tr>\n",
       "      <th>1</th>\n",
       "      <td>0.005</td>\n",
       "      <td>40.0</td>\n",
       "      <td>0.731177</td>\n",
       "      <td>0.032070</td>\n",
       "      <td>0.726891</td>\n",
       "      <td>0.742287</td>\n",
       "      <td>0.630026</td>\n",
       "      <td>0.728944</td>\n",
       "      <td>0.734350</td>\n",
       "      <td>0.754307</td>\n",
       "      <td>0.740725</td>\n",
       "      <td>0.703819</td>\n",
       "      <td>0.743534</td>\n",
       "      <td>0.750588</td>\n",
       "      <td>0.752255</td>\n",
       "      <td>0.751356</td>\n",
       "      <td>0.746224</td>\n",
       "      <td>0.754307</td>\n",
       "    </tr>\n",
       "    <tr>\n",
       "      <th>2</th>\n",
       "      <td>0.005</td>\n",
       "      <td>50.0</td>\n",
       "      <td>0.760626</td>\n",
       "      <td>0.033819</td>\n",
       "      <td>0.751193</td>\n",
       "      <td>0.773577</td>\n",
       "      <td>0.651751</td>\n",
       "      <td>0.764052</td>\n",
       "      <td>0.762055</td>\n",
       "      <td>0.782179</td>\n",
       "      <td>0.769075</td>\n",
       "      <td>0.738752</td>\n",
       "      <td>0.776067</td>\n",
       "      <td>0.777164</td>\n",
       "      <td>0.781696</td>\n",
       "      <td>0.780602</td>\n",
       "      <td>0.779977</td>\n",
       "      <td>0.782179</td>\n",
       "    </tr>\n",
       "    <tr>\n",
       "      <th>3</th>\n",
       "      <td>0.005</td>\n",
       "      <td>60.0</td>\n",
       "      <td>0.761523</td>\n",
       "      <td>0.033721</td>\n",
       "      <td>0.753126</td>\n",
       "      <td>0.774041</td>\n",
       "      <td>0.653226</td>\n",
       "      <td>0.764491</td>\n",
       "      <td>0.762204</td>\n",
       "      <td>0.783602</td>\n",
       "      <td>0.770751</td>\n",
       "      <td>0.738637</td>\n",
       "      <td>0.776551</td>\n",
       "      <td>0.778424</td>\n",
       "      <td>0.782847</td>\n",
       "      <td>0.781161</td>\n",
       "      <td>0.780742</td>\n",
       "      <td>0.783602</td>\n",
       "    </tr>\n",
       "    <tr>\n",
       "      <th>4</th>\n",
       "      <td>0.005</td>\n",
       "      <td>70.0</td>\n",
       "      <td>0.761642</td>\n",
       "      <td>0.033738</td>\n",
       "      <td>0.753126</td>\n",
       "      <td>0.774373</td>\n",
       "      <td>0.653257</td>\n",
       "      <td>0.764728</td>\n",
       "      <td>0.762339</td>\n",
       "      <td>0.783622</td>\n",
       "      <td>0.770849</td>\n",
       "      <td>0.738830</td>\n",
       "      <td>0.776764</td>\n",
       "      <td>0.778441</td>\n",
       "      <td>0.782972</td>\n",
       "      <td>0.781249</td>\n",
       "      <td>0.780790</td>\n",
       "      <td>0.783622</td>\n",
       "    </tr>\n",
       "  </tbody>\n",
       "</table>\n",
       "</div>"
      ],
      "text/plain": [
       "    learning_rate  n_estimator  test_mean  Deviation  testscore_day1  \\\n",
       "id                                                                     \n",
       "0           0.005         30.0   0.657626   0.028930        0.648269   \n",
       "1           0.005         40.0   0.731177   0.032070        0.726891   \n",
       "2           0.005         50.0   0.760626   0.033819        0.751193   \n",
       "3           0.005         60.0   0.761523   0.033721        0.753126   \n",
       "4           0.005         70.0   0.761642   0.033738        0.753126   \n",
       "\n",
       "    testscore_day10  testscore_day11  testscore_day12  testscore_day13  \\\n",
       "id                                                                       \n",
       "0          0.667352         0.564298         0.654727         0.660468   \n",
       "1          0.742287         0.630026         0.728944         0.734350   \n",
       "2          0.773577         0.651751         0.764052         0.762055   \n",
       "3          0.774041         0.653226         0.764491         0.762204   \n",
       "4          0.774373         0.653257         0.764728         0.762339   \n",
       "\n",
       "    testscore_day2  testscore_day3  testscore_day4  testscore_day5  \\\n",
       "id                                                                   \n",
       "0         0.676410        0.662750        0.643783        0.670594   \n",
       "1         0.754307        0.740725        0.703819        0.743534   \n",
       "2         0.782179        0.769075        0.738752        0.776067   \n",
       "3         0.783602        0.770751        0.738637        0.776551   \n",
       "4         0.783622        0.770849        0.738830        0.776764   \n",
       "\n",
       "    testscore_day6  testscore_day7  testscore_day8  testscore_day9  \\\n",
       "id                                                                   \n",
       "0         0.674609        0.676963        0.675883        0.673025   \n",
       "1         0.750588        0.752255        0.751356        0.746224   \n",
       "2         0.777164        0.781696        0.780602        0.779977   \n",
       "3         0.778424        0.782847        0.781161        0.780742   \n",
       "4         0.778441        0.782972        0.781249        0.780790   \n",
       "\n",
       "    train_score  \n",
       "id               \n",
       "0      0.676410  \n",
       "1      0.754307  \n",
       "2      0.782179  \n",
       "3      0.783602  \n",
       "4      0.783622  "
      ]
     },
     "execution_count": 50,
     "metadata": {},
     "output_type": "execute_result"
    }
   ],
   "source": [
    "df.head()"
   ]
  },
  {
   "cell_type": "code",
   "execution_count": 51,
   "id": "4e4d54f6",
   "metadata": {},
   "outputs": [],
   "source": [
    "df.to_csv(\"/home/stano/Project/Sensor_Gas/optim.csv\")"
   ]
  },
  {
   "cell_type": "code",
   "execution_count": 42,
   "id": "f28a492f",
   "metadata": {},
   "outputs": [
    {
     "data": {
      "text/plain": [
       "'/home/stano/Project/Sensor/Gas_Sensor'"
      ]
     },
     "execution_count": 42,
     "metadata": {},
     "output_type": "execute_result"
    }
   ],
   "source": [
    "os.getcwd()"
   ]
  },
  {
   "cell_type": "code",
   "execution_count": 63,
   "id": "72e260cc",
   "metadata": {},
   "outputs": [
    {
     "data": {
      "text/html": [
       "<div>\n",
       "<style scoped>\n",
       "    .dataframe tbody tr th:only-of-type {\n",
       "        vertical-align: middle;\n",
       "    }\n",
       "\n",
       "    .dataframe tbody tr th {\n",
       "        vertical-align: top;\n",
       "    }\n",
       "\n",
       "    .dataframe thead th {\n",
       "        text-align: right;\n",
       "    }\n",
       "</style>\n",
       "<table border=\"1\" class=\"dataframe\">\n",
       "  <thead>\n",
       "    <tr style=\"text-align: right;\">\n",
       "      <th></th>\n",
       "      <th>learning_rate</th>\n",
       "      <th>n_estimator</th>\n",
       "      <th>test_mean</th>\n",
       "      <th>Deviation</th>\n",
       "      <th>testscore_day1</th>\n",
       "      <th>testscore_day10</th>\n",
       "      <th>testscore_day11</th>\n",
       "      <th>testscore_day12</th>\n",
       "      <th>testscore_day13</th>\n",
       "      <th>testscore_day2</th>\n",
       "      <th>testscore_day3</th>\n",
       "      <th>testscore_day4</th>\n",
       "      <th>testscore_day5</th>\n",
       "      <th>testscore_day6</th>\n",
       "      <th>testscore_day7</th>\n",
       "      <th>testscore_day8</th>\n",
       "      <th>testscore_day9</th>\n",
       "      <th>train_score</th>\n",
       "    </tr>\n",
       "    <tr>\n",
       "      <th>id</th>\n",
       "      <th></th>\n",
       "      <th></th>\n",
       "      <th></th>\n",
       "      <th></th>\n",
       "      <th></th>\n",
       "      <th></th>\n",
       "      <th></th>\n",
       "      <th></th>\n",
       "      <th></th>\n",
       "      <th></th>\n",
       "      <th></th>\n",
       "      <th></th>\n",
       "      <th></th>\n",
       "      <th></th>\n",
       "      <th></th>\n",
       "      <th></th>\n",
       "      <th></th>\n",
       "      <th></th>\n",
       "    </tr>\n",
       "  </thead>\n",
       "  <tbody>\n",
       "    <tr>\n",
       "      <th>48</th>\n",
       "      <td>0.045</td>\n",
       "      <td>110.0</td>\n",
       "      <td>0.798161</td>\n",
       "      <td>0.040763</td>\n",
       "      <td>0.813573</td>\n",
       "      <td>0.788811</td>\n",
       "      <td>0.705472</td>\n",
       "      <td>0.774001</td>\n",
       "      <td>0.769818</td>\n",
       "      <td>0.855026</td>\n",
       "      <td>0.818662</td>\n",
       "      <td>0.736491</td>\n",
       "      <td>0.808986</td>\n",
       "      <td>0.827242</td>\n",
       "      <td>0.837891</td>\n",
       "      <td>0.833109</td>\n",
       "      <td>0.807017</td>\n",
       "      <td>0.855026</td>\n",
       "    </tr>\n",
       "    <tr>\n",
       "      <th>56</th>\n",
       "      <td>0.055</td>\n",
       "      <td>90.0</td>\n",
       "      <td>0.798002</td>\n",
       "      <td>0.041174</td>\n",
       "      <td>0.813640</td>\n",
       "      <td>0.788126</td>\n",
       "      <td>0.705872</td>\n",
       "      <td>0.772969</td>\n",
       "      <td>0.767878</td>\n",
       "      <td>0.855419</td>\n",
       "      <td>0.819627</td>\n",
       "      <td>0.734988</td>\n",
       "      <td>0.809565</td>\n",
       "      <td>0.826920</td>\n",
       "      <td>0.838074</td>\n",
       "      <td>0.833779</td>\n",
       "      <td>0.807172</td>\n",
       "      <td>0.855419</td>\n",
       "    </tr>\n",
       "    <tr>\n",
       "      <th>74</th>\n",
       "      <td>0.075</td>\n",
       "      <td>70.0</td>\n",
       "      <td>0.798505</td>\n",
       "      <td>0.042032</td>\n",
       "      <td>0.816087</td>\n",
       "      <td>0.787523</td>\n",
       "      <td>0.705263</td>\n",
       "      <td>0.772390</td>\n",
       "      <td>0.767445</td>\n",
       "      <td>0.857953</td>\n",
       "      <td>0.823094</td>\n",
       "      <td>0.734517</td>\n",
       "      <td>0.808637</td>\n",
       "      <td>0.827685</td>\n",
       "      <td>0.838923</td>\n",
       "      <td>0.834765</td>\n",
       "      <td>0.806279</td>\n",
       "      <td>0.857953</td>\n",
       "    </tr>\n",
       "  </tbody>\n",
       "</table>\n",
       "</div>"
      ],
      "text/plain": [
       "    learning_rate  n_estimator  test_mean  Deviation  testscore_day1  \\\n",
       "id                                                                     \n",
       "48          0.045        110.0   0.798161   0.040763        0.813573   \n",
       "56          0.055         90.0   0.798002   0.041174        0.813640   \n",
       "74          0.075         70.0   0.798505   0.042032        0.816087   \n",
       "\n",
       "    testscore_day10  testscore_day11  testscore_day12  testscore_day13  \\\n",
       "id                                                                       \n",
       "48         0.788811         0.705472         0.774001         0.769818   \n",
       "56         0.788126         0.705872         0.772969         0.767878   \n",
       "74         0.787523         0.705263         0.772390         0.767445   \n",
       "\n",
       "    testscore_day2  testscore_day3  testscore_day4  testscore_day5  \\\n",
       "id                                                                   \n",
       "48        0.855026        0.818662        0.736491        0.808986   \n",
       "56        0.855419        0.819627        0.734988        0.809565   \n",
       "74        0.857953        0.823094        0.734517        0.808637   \n",
       "\n",
       "    testscore_day6  testscore_day7  testscore_day8  testscore_day9  \\\n",
       "id                                                                   \n",
       "48        0.827242        0.837891        0.833109        0.807017   \n",
       "56        0.826920        0.838074        0.833779        0.807172   \n",
       "74        0.827685        0.838923        0.834765        0.806279   \n",
       "\n",
       "    train_score  \n",
       "id               \n",
       "48     0.855026  \n",
       "56     0.855419  \n",
       "74     0.857953  "
      ]
     },
     "execution_count": 63,
     "metadata": {},
     "output_type": "execute_result"
    }
   ],
   "source": [
    "df[df[\"test_mean\"] > 0.798]"
   ]
  },
  {
   "cell_type": "code",
   "execution_count": 90,
   "id": "1c7f0886",
   "metadata": {},
   "outputs": [],
   "source": [
    "def optimization_leaf(X_train,y_train):\n",
    "    \n",
    "    l2 = list()\n",
    "    for i in range(5,14,2):\n",
    "        for j in range(50,550,100):\n",
    "            d2 = dict()\n",
    "            boost = GradientBoostingClassifier(learning_rate=0.075,n_estimators=70, max_depth=i, min_samples_split=j)\n",
    "            boost.fit(X_train,y_train)\n",
    "            d2[\"max_depth\"] = i\n",
    "            d2[\"min_sample_split\"] = j\n",
    "            d2[\"train_score\"] = boost.score(X_train,y_train)\n",
    "            \n",
    "            for k in range(1,14):\n",
    "                exec(f\"d2['testscore_day{k}'] = boost.score(df_ind{k},df_dep{k})\")\n",
    "\n",
    "            l2.append(d2)\n",
    "\n",
    "    return l2"
   ]
  },
  {
   "cell_type": "code",
   "execution_count": 91,
   "id": "92dece7c",
   "metadata": {},
   "outputs": [],
   "source": [
    "def load_optimization_leaf():\n",
    "    \n",
    "    optim = pd.DataFrame(optimization_leaf(df_ind2,df_dep2))\n",
    "    \n",
    "    if \"index\" in list(optim.columns):\n",
    "        optim.drop(\"index\", axis= 1, inplace = True)\n",
    "    optim = optim.reset_index()\n",
    "    \n",
    "    \n",
    "    columns_schema = \"\"\"id float, max_depth float,min_sample_split float, train_score float,\n",
    "       testscore_day1 float, testscore_day2 float,testscore_day3 float,testscore_day4 float,\n",
    "       testscore_day5 float, testscore_day6 float, testscore_day7 float, testscore_day8 float,\n",
    "       testscore_day9 float, testscore_day10 float, testscore_day11 float,\n",
    "       testscore_day12 float,testscore_day13 float, primary key (id)\"\"\"\n",
    "    \n",
    "    session.execute(f\"create table if not exists model.optim_tree ({columns_schema})\")\n",
    "    \n",
    "    \n",
    "    columns = \"\"\"id, max_depth, min_sample_split, train_score,\n",
    "       testscore_day1, testscore_day2, testscore_day3, testscore_day4,\n",
    "       testscore_day5, testscore_day6, testscore_day7, testscore_day8,\n",
    "       testscore_day9, testscore_day10, testscore_day11,\n",
    "       testscore_day12, testscore_day13\"\"\"\n",
    "    \n",
    "    for i in range(len(optim)):\n",
    "        row = tuple(optim.iloc[i].values)\n",
    "        session.execute(f\"\"\"insert into model.optim_tree ({columns}) values {row}\"\"\")\n",
    "        "
   ]
  },
  {
   "cell_type": "code",
   "execution_count": null,
   "id": "16720cb4",
   "metadata": {},
   "outputs": [],
   "source": [
    "load_optimization_leaf()"
   ]
  },
  {
   "cell_type": "code",
   "execution_count": 93,
   "id": "6ab13ed3",
   "metadata": {},
   "outputs": [],
   "source": [
    "df_optim_tree = pd.DataFrame(list(session.execute(\"select * from model.optim_tree\")))"
   ]
  },
  {
   "cell_type": "code",
   "execution_count": 96,
   "id": "d0574282",
   "metadata": {},
   "outputs": [],
   "source": [
    "df_optim_tree[\"id\"] = df_optim_tree[\"id\"].astype(\"int\")\n",
    "df_optim_tree.sort_values(by=\"id\", inplace=True)\n",
    "df_optim_tree.set_index(\"id\", inplace=True)"
   ]
  },
  {
   "cell_type": "code",
   "execution_count": 99,
   "id": "e59f3319",
   "metadata": {},
   "outputs": [],
   "source": [
    "df_optim_tree.insert(2,\"test_mean\",np.mean(df_optim_tree.iloc[:,2:15], axis=1))"
   ]
  },
  {
   "cell_type": "code",
   "execution_count": 103,
   "id": "32141e24",
   "metadata": {},
   "outputs": [],
   "source": [
    "df_optim_tree.insert(3,\"Deviation\",np.std(df_optim_tree.iloc[:,3:16], axis=1))"
   ]
  },
  {
   "cell_type": "code",
   "execution_count": 105,
   "id": "a9656083",
   "metadata": {},
   "outputs": [],
   "source": [
    "df_optim_tree.to_csv(\"/home/stano/Project/Sensor_Gas/optim_tree.csv\")"
   ]
  },
  {
   "cell_type": "code",
   "execution_count": 106,
   "id": "b4bd8513",
   "metadata": {},
   "outputs": [
    {
     "data": {
      "text/html": [
       "<div>\n",
       "<style scoped>\n",
       "    .dataframe tbody tr th:only-of-type {\n",
       "        vertical-align: middle;\n",
       "    }\n",
       "\n",
       "    .dataframe tbody tr th {\n",
       "        vertical-align: top;\n",
       "    }\n",
       "\n",
       "    .dataframe thead th {\n",
       "        text-align: right;\n",
       "    }\n",
       "</style>\n",
       "<table border=\"1\" class=\"dataframe\">\n",
       "  <thead>\n",
       "    <tr style=\"text-align: right;\">\n",
       "      <th></th>\n",
       "      <th>max_depth</th>\n",
       "      <th>min_sample_split</th>\n",
       "      <th>test_mean</th>\n",
       "      <th>Deviation</th>\n",
       "      <th>testscore_day1</th>\n",
       "      <th>testscore_day10</th>\n",
       "      <th>testscore_day11</th>\n",
       "      <th>testscore_day12</th>\n",
       "      <th>testscore_day13</th>\n",
       "      <th>testscore_day2</th>\n",
       "      <th>testscore_day3</th>\n",
       "      <th>testscore_day4</th>\n",
       "      <th>testscore_day5</th>\n",
       "      <th>testscore_day6</th>\n",
       "      <th>testscore_day7</th>\n",
       "      <th>testscore_day8</th>\n",
       "      <th>testscore_day9</th>\n",
       "      <th>train_score</th>\n",
       "    </tr>\n",
       "    <tr>\n",
       "      <th>id</th>\n",
       "      <th></th>\n",
       "      <th></th>\n",
       "      <th></th>\n",
       "      <th></th>\n",
       "      <th></th>\n",
       "      <th></th>\n",
       "      <th></th>\n",
       "      <th></th>\n",
       "      <th></th>\n",
       "      <th></th>\n",
       "      <th></th>\n",
       "      <th></th>\n",
       "      <th></th>\n",
       "      <th></th>\n",
       "      <th></th>\n",
       "      <th></th>\n",
       "      <th></th>\n",
       "      <th></th>\n",
       "    </tr>\n",
       "  </thead>\n",
       "  <tbody>\n",
       "  </tbody>\n",
       "</table>\n",
       "</div>"
      ],
      "text/plain": [
       "Empty DataFrame\n",
       "Columns: [max_depth, min_sample_split, test_mean, Deviation, testscore_day1, testscore_day10, testscore_day11, testscore_day12, testscore_day13, testscore_day2, testscore_day3, testscore_day4, testscore_day5, testscore_day6, testscore_day7, testscore_day8, testscore_day9, train_score]\n",
       "Index: []"
      ]
     },
     "execution_count": 106,
     "metadata": {},
     "output_type": "execute_result"
    }
   ],
   "source": [
    "df_optim_tree[df_optim_tree[\"test_mean\"] > 0.80]"
   ]
  },
  {
   "cell_type": "code",
   "execution_count": 109,
   "id": "a789f009",
   "metadata": {},
   "outputs": [
    {
     "data": {
      "text/plain": [
       "id\n",
       "0     0.763540\n",
       "1     0.762179\n",
       "2     0.762022\n",
       "3     0.763125\n",
       "4     0.766928\n",
       "5     0.743566\n",
       "6     0.744648\n",
       "7     0.741166\n",
       "8     0.746479\n",
       "9     0.742484\n",
       "10    0.737739\n",
       "11    0.733152\n",
       "12    0.733863\n",
       "13    0.738121\n",
       "14    0.729674\n",
       "15    0.721938\n",
       "16    0.721033\n",
       "17    0.722028\n",
       "18    0.722280\n",
       "19    0.727975\n",
       "20    0.710551\n",
       "21    0.712524\n",
       "22    0.713506\n",
       "23    0.709111\n",
       "24    0.714489\n",
       "Name: test_mean, dtype: float64"
      ]
     },
     "execution_count": 109,
     "metadata": {},
     "output_type": "execute_result"
    }
   ],
   "source": [
    "df_optim_tree[\"test_mean\"]"
   ]
  },
  {
   "cell_type": "code",
   "execution_count": 122,
   "id": "2a021c4a",
   "metadata": {},
   "outputs": [
    {
     "data": {
      "text/plain": [
       "High        116890\n",
       "Low          90692\n",
       "Moderate     87780\n",
       "Name: CO, dtype: int64"
      ]
     },
     "execution_count": 122,
     "metadata": {},
     "output_type": "execute_result"
    }
   ],
   "source": [
    "df_dep13.value_counts()"
   ]
  },
  {
   "cell_type": "code",
   "execution_count": null,
   "id": "e8282346",
   "metadata": {},
   "outputs": [],
   "source": [
    "df = Grade  "
   ]
  },
  {
   "cell_type": "code",
   "execution_count": 17,
   "id": "299e55a0",
   "metadata": {},
   "outputs": [],
   "source": [
    "from sklearn import ensemble"
   ]
  },
  {
   "cell_type": "code",
   "execution_count": 31,
   "id": "dec4e873",
   "metadata": {},
   "outputs": [],
   "source": [
    "model = ensemble.GradientBoostingClassifier(n_estimators=70, learning_rate=0.075)"
   ]
  },
  {
   "cell_type": "code",
   "execution_count": 32,
   "id": "5b0dec12",
   "metadata": {},
   "outputs": [
    {
     "data": {
      "text/html": [
       "<style>#sk-container-id-4 {color: black;background-color: white;}#sk-container-id-4 pre{padding: 0;}#sk-container-id-4 div.sk-toggleable {background-color: white;}#sk-container-id-4 label.sk-toggleable__label {cursor: pointer;display: block;width: 100%;margin-bottom: 0;padding: 0.3em;box-sizing: border-box;text-align: center;}#sk-container-id-4 label.sk-toggleable__label-arrow:before {content: \"▸\";float: left;margin-right: 0.25em;color: #696969;}#sk-container-id-4 label.sk-toggleable__label-arrow:hover:before {color: black;}#sk-container-id-4 div.sk-estimator:hover label.sk-toggleable__label-arrow:before {color: black;}#sk-container-id-4 div.sk-toggleable__content {max-height: 0;max-width: 0;overflow: hidden;text-align: left;background-color: #f0f8ff;}#sk-container-id-4 div.sk-toggleable__content pre {margin: 0.2em;color: black;border-radius: 0.25em;background-color: #f0f8ff;}#sk-container-id-4 input.sk-toggleable__control:checked~div.sk-toggleable__content {max-height: 200px;max-width: 100%;overflow: auto;}#sk-container-id-4 input.sk-toggleable__control:checked~label.sk-toggleable__label-arrow:before {content: \"▾\";}#sk-container-id-4 div.sk-estimator input.sk-toggleable__control:checked~label.sk-toggleable__label {background-color: #d4ebff;}#sk-container-id-4 div.sk-label input.sk-toggleable__control:checked~label.sk-toggleable__label {background-color: #d4ebff;}#sk-container-id-4 input.sk-hidden--visually {border: 0;clip: rect(1px 1px 1px 1px);clip: rect(1px, 1px, 1px, 1px);height: 1px;margin: -1px;overflow: hidden;padding: 0;position: absolute;width: 1px;}#sk-container-id-4 div.sk-estimator {font-family: monospace;background-color: #f0f8ff;border: 1px dotted black;border-radius: 0.25em;box-sizing: border-box;margin-bottom: 0.5em;}#sk-container-id-4 div.sk-estimator:hover {background-color: #d4ebff;}#sk-container-id-4 div.sk-parallel-item::after {content: \"\";width: 100%;border-bottom: 1px solid gray;flex-grow: 1;}#sk-container-id-4 div.sk-label:hover label.sk-toggleable__label {background-color: #d4ebff;}#sk-container-id-4 div.sk-serial::before {content: \"\";position: absolute;border-left: 1px solid gray;box-sizing: border-box;top: 0;bottom: 0;left: 50%;z-index: 0;}#sk-container-id-4 div.sk-serial {display: flex;flex-direction: column;align-items: center;background-color: white;padding-right: 0.2em;padding-left: 0.2em;position: relative;}#sk-container-id-4 div.sk-item {position: relative;z-index: 1;}#sk-container-id-4 div.sk-parallel {display: flex;align-items: stretch;justify-content: center;background-color: white;position: relative;}#sk-container-id-4 div.sk-item::before, #sk-container-id-4 div.sk-parallel-item::before {content: \"\";position: absolute;border-left: 1px solid gray;box-sizing: border-box;top: 0;bottom: 0;left: 50%;z-index: -1;}#sk-container-id-4 div.sk-parallel-item {display: flex;flex-direction: column;z-index: 1;position: relative;background-color: white;}#sk-container-id-4 div.sk-parallel-item:first-child::after {align-self: flex-end;width: 50%;}#sk-container-id-4 div.sk-parallel-item:last-child::after {align-self: flex-start;width: 50%;}#sk-container-id-4 div.sk-parallel-item:only-child::after {width: 0;}#sk-container-id-4 div.sk-dashed-wrapped {border: 1px dashed gray;margin: 0 0.4em 0.5em 0.4em;box-sizing: border-box;padding-bottom: 0.4em;background-color: white;}#sk-container-id-4 div.sk-label label {font-family: monospace;font-weight: bold;display: inline-block;line-height: 1.2em;}#sk-container-id-4 div.sk-label-container {text-align: center;}#sk-container-id-4 div.sk-container {/* jupyter's `normalize.less` sets `[hidden] { display: none; }` but bootstrap.min.css set `[hidden] { display: none !important; }` so we also need the `!important` here to be able to override the default hidden behavior on the sphinx rendered scikit-learn.org. See: https://github.com/scikit-learn/scikit-learn/issues/21755 */display: inline-block !important;position: relative;}#sk-container-id-4 div.sk-text-repr-fallback {display: none;}</style><div id=\"sk-container-id-4\" class=\"sk-top-container\"><div class=\"sk-text-repr-fallback\"><pre>GradientBoostingClassifier(learning_rate=0.075, n_estimators=70)</pre><b>In a Jupyter environment, please rerun this cell to show the HTML representation or trust the notebook. <br />On GitHub, the HTML representation is unable to render, please try loading this page with nbviewer.org.</b></div><div class=\"sk-container\" hidden><div class=\"sk-item\"><div class=\"sk-estimator sk-toggleable\"><input class=\"sk-toggleable__control sk-hidden--visually\" id=\"sk-estimator-id-4\" type=\"checkbox\" checked><label for=\"sk-estimator-id-4\" class=\"sk-toggleable__label sk-toggleable__label-arrow\">GradientBoostingClassifier</label><div class=\"sk-toggleable__content\"><pre>GradientBoostingClassifier(learning_rate=0.075, n_estimators=70)</pre></div></div></div></div></div>"
      ],
      "text/plain": [
       "GradientBoostingClassifier(learning_rate=0.075, n_estimators=70)"
      ]
     },
     "execution_count": 32,
     "metadata": {},
     "output_type": "execute_result"
    }
   ],
   "source": [
    "model.fit(df_ind2,df_dep2)"
   ]
  },
  {
   "cell_type": "code",
   "execution_count": 33,
   "id": "a4d36575",
   "metadata": {},
   "outputs": [
    {
     "data": {
      "text/plain": [
       "array(['Low', 'High'], dtype=object)"
      ]
     },
     "execution_count": 33,
     "metadata": {},
     "output_type": "execute_result"
    }
   ],
   "source": [
    "df_dep2.unique()"
   ]
  },
  {
   "cell_type": "code",
   "execution_count": 34,
   "id": "c6353c66",
   "metadata": {},
   "outputs": [],
   "source": [
    "l = list()\n",
    "for i in range(1,14):\n",
    "    d = dict()\n",
    "    d[\"Day\"] = \"day\" + str(i)\n",
    "    exec(f\"d['Score'] = model.score(df_ind{i},df_dep{i})\")\n",
    "    l.append(d)"
   ]
  },
  {
   "cell_type": "code",
   "execution_count": 36,
   "id": "efa12500",
   "metadata": {},
   "outputs": [
    {
     "data": {
      "text/html": [
       "<div>\n",
       "<style scoped>\n",
       "    .dataframe tbody tr th:only-of-type {\n",
       "        vertical-align: middle;\n",
       "    }\n",
       "\n",
       "    .dataframe tbody tr th {\n",
       "        vertical-align: top;\n",
       "    }\n",
       "\n",
       "    .dataframe thead th {\n",
       "        text-align: right;\n",
       "    }\n",
       "</style>\n",
       "<table border=\"1\" class=\"dataframe\">\n",
       "  <thead>\n",
       "    <tr style=\"text-align: right;\">\n",
       "      <th></th>\n",
       "      <th>Day</th>\n",
       "      <th>Score</th>\n",
       "    </tr>\n",
       "  </thead>\n",
       "  <tbody>\n",
       "    <tr>\n",
       "      <th>0</th>\n",
       "      <td>day1</td>\n",
       "      <td>0.893265</td>\n",
       "    </tr>\n",
       "    <tr>\n",
       "      <th>1</th>\n",
       "      <td>day2</td>\n",
       "      <td>0.909354</td>\n",
       "    </tr>\n",
       "    <tr>\n",
       "      <th>2</th>\n",
       "      <td>day3</td>\n",
       "      <td>0.879635</td>\n",
       "    </tr>\n",
       "    <tr>\n",
       "      <th>3</th>\n",
       "      <td>day4</td>\n",
       "      <td>0.868476</td>\n",
       "    </tr>\n",
       "    <tr>\n",
       "      <th>4</th>\n",
       "      <td>day5</td>\n",
       "      <td>0.890585</td>\n",
       "    </tr>\n",
       "    <tr>\n",
       "      <th>5</th>\n",
       "      <td>day6</td>\n",
       "      <td>0.892555</td>\n",
       "    </tr>\n",
       "    <tr>\n",
       "      <th>6</th>\n",
       "      <td>day7</td>\n",
       "      <td>0.894180</td>\n",
       "    </tr>\n",
       "    <tr>\n",
       "      <th>7</th>\n",
       "      <td>day8</td>\n",
       "      <td>0.895292</td>\n",
       "    </tr>\n",
       "    <tr>\n",
       "      <th>8</th>\n",
       "      <td>day9</td>\n",
       "      <td>0.895106</td>\n",
       "    </tr>\n",
       "    <tr>\n",
       "      <th>9</th>\n",
       "      <td>day10</td>\n",
       "      <td>0.891644</td>\n",
       "    </tr>\n",
       "    <tr>\n",
       "      <th>10</th>\n",
       "      <td>day11</td>\n",
       "      <td>0.844044</td>\n",
       "    </tr>\n",
       "    <tr>\n",
       "      <th>11</th>\n",
       "      <td>day12</td>\n",
       "      <td>0.885199</td>\n",
       "    </tr>\n",
       "    <tr>\n",
       "      <th>12</th>\n",
       "      <td>day13</td>\n",
       "      <td>0.881207</td>\n",
       "    </tr>\n",
       "  </tbody>\n",
       "</table>\n",
       "</div>"
      ],
      "text/plain": [
       "      Day     Score\n",
       "0    day1  0.893265\n",
       "1    day2  0.909354\n",
       "2    day3  0.879635\n",
       "3    day4  0.868476\n",
       "4    day5  0.890585\n",
       "5    day6  0.892555\n",
       "6    day7  0.894180\n",
       "7    day8  0.895292\n",
       "8    day9  0.895106\n",
       "9   day10  0.891644\n",
       "10  day11  0.844044\n",
       "11  day12  0.885199\n",
       "12  day13  0.881207"
      ]
     },
     "execution_count": 36,
     "metadata": {},
     "output_type": "execute_result"
    }
   ],
   "source": [
    "pd.DataFrame(l)"
   ]
  },
  {
   "cell_type": "code",
   "execution_count": null,
   "id": "2c5fa943",
   "metadata": {},
   "outputs": [],
   "source": []
  }
 ],
 "metadata": {
  "kernelspec": {
   "display_name": "Python 3 (ipykernel)",
   "language": "python",
   "name": "python3"
  },
  "language_info": {
   "codemirror_mode": {
    "name": "ipython",
    "version": 3
   },
   "file_extension": ".py",
   "mimetype": "text/x-python",
   "name": "python",
   "nbconvert_exporter": "python",
   "pygments_lexer": "ipython3",
   "version": "3.10.8"
  }
 },
 "nbformat": 4,
 "nbformat_minor": 5
}
